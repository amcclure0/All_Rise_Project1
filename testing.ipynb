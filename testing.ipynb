{
 "cells": [
  {
   "cell_type": "code",
   "execution_count": null,
   "metadata": {},
   "outputs": [],
   "source": [
    "import pandas as pd\n",
    "import matplotlib.pyplot as plt\n",
    "from IPython.display import Image"
   ]
  },
  {
   "cell_type": "code",
   "execution_count": null,
   "metadata": {},
   "outputs": [],
   "source": [
    "Image(filename = \"Resources/nyt.png\")"
   ]
  },
  {
   "cell_type": "code",
   "execution_count": null,
   "metadata": {},
   "outputs": [],
   "source": [
    "qualifiers = \"Resources/qualifiers.csv\"\n",
    "homers_df = pd.read_csv(qualifiers)\n",
    "top_hrs = homers_df.head(9)\n",
    "top_hrs[\"Player Year\"] =  top_hrs[\"Name\"] + \" \" + top_hrs[\"Season\"].astype(str)\n",
    "top_hrs_sorted = top_hrs.sort_values('HR')\n",
    "homers_df.head(9)"
   ]
  },
  {
   "cell_type": "code",
   "execution_count": null,
   "metadata": {},
   "outputs": [],
   "source": [
    "x_axis = top_hrs_sorted['Player Year']\n",
    "y_axis = top_hrs_sorted['HR']\n",
    "colors = ['blue', 'blue', 'blue', 'red', 'red', 'red', 'red', 'red', 'red']\n",
    "plt.bar(x_axis, y_axis, color=colors)\n",
    "plt.title('Most HRs in a Single Season, MLB History')\n",
    "plt.xlabel('Player & Year')\n",
    "plt.ylabel('HRs')\n",
    "plt.xticks(rotation=45, ha='right')\n",
    "plt.show()"
   ]
  },
  {
   "cell_type": "code",
   "execution_count": null,
   "metadata": {},
   "outputs": [],
   "source": [
    "Image(filename = \"Resources/onion.png\")"
   ]
  },
  {
   "cell_type": "code",
   "execution_count": null,
   "metadata": {},
   "outputs": [],
   "source": [
    "mlb_year_by_year_batting_totals = \"Resources/mlb_year_by_year_batting_totals.csv\""
   ]
  },
  {
   "cell_type": "code",
   "execution_count": null,
   "metadata": {},
   "outputs": [],
   "source": [
    "mlb_year_by_year_batting_totals_df = pd.read_csv(mlb_year_by_year_batting_totals)\n",
    "mlb_year_by_year_batting_totals_df"
   ]
  },
  {
   "cell_type": "code",
   "execution_count": null,
   "metadata": {},
   "outputs": [],
   "source": [
    "home_run_percent = ((mlb_year_by_year_batting_totals_df[\"HR\"] / mlb_year_by_year_batting_totals_df[\"PA\"])*100)\n",
    "home_run_percent\n",
    "\n",
    "plt.plot(mlb_year_by_year_batting_totals_df[\"Year\"], home_run_percent)\n",
    "plt.title(\"Home Run Frequency (HR/PA) 1903-2022\")\n",
    "plt.xlabel(\"Year\")\n",
    "plt.ylabel(\"HR%\")\n",
    "plt.show()"
   ]
  },
  {
   "cell_type": "code",
   "execution_count": null,
   "metadata": {},
   "outputs": [],
   "source": [
    "import pandas as pd\n",
    "import matplotlib.pyplot as plt\n",
    "\n",
    "hr_gap = \"Resources/hr_gap.csv\"\n",
    "\n",
    "hr_gap_df = pd.read_csv(hr_gap)\n",
    "hr_gap_df['Player Year'] =  hr_gap_df['Leader'] + \" \" + hr_gap_df['Year'].astype(str)\n",
    "hr_gap_df\n",
    "\n",
    "x_axis = hr_gap_df['Player Year']\n",
    "y_axis = hr_gap_df['Gap']\n",
    "leader = hr_gap_df['Leader']\n",
    "colors = ['black']\n",
    "\n",
    "hr_gap_summary = plt.bar(x_axis, y_axis, color=colors, width=0.7)\n",
    "plt.title('10 Largest Home Run Gaps between Leader & Runner-Up')\n",
    "plt.xlabel('Year')\n",
    "plt.ylabel('HR Gap')\n",
    "#plt.legend(leader.values)\n",
    "plt.xticks(rotation=45, ha='right')\n",
    "#plt.figure(figsize=(x,x))\n",
    "hr_gap_summary[7].set_color('green')\n",
    "plt.show()"
   ]
  },
  {
   "cell_type": "code",
   "execution_count": null,
   "metadata": {},
   "outputs": [],
   "source": [
    "import pandas as pd\n",
    "import matplotlib.pyplot as plt\n",
    "\n",
    "hr_gap = \"Resources/hr_gap.csv\"\n",
    "\n",
    "hr_gap_df = pd.read_csv(hr_gap)\n",
    "hr_gap_df['Player Year'] =  hr_gap_df['Leader'] + \" \" + hr_gap_df['Year'].astype(str)\n",
    "hr_gap_df\n",
    "\n",
    "x_axis = hr_gap_df['Year']\n",
    "y_axis = hr_gap_df['Gap']\n",
    "leader = hr_gap_df['Leader']\n",
    "colors = ['black']\n",
    "\n",
    "hr_gap_summary = plt.bar(x_axis, y_axis, color=colors, width=0.7)\n",
    "plt.title('10 Largest Home Run Gaps between Leader & Runner-Up')\n",
    "plt.xlabel('Year')\n",
    "plt.ylabel('HR Gap')\n",
    "#plt.legend(leader.values)\n",
    "plt.xticks(rotation=45, ha='right')\n",
    "#plt.figure(figsize=(x,x))\n",
    "hr_gap_summary[7].set_color('green')\n",
    "plt.show()"
   ]
  },
  {
   "cell_type": "code",
   "execution_count": null,
   "metadata": {},
   "outputs": [],
   "source": [
    "plt.plot(mlb_year_by_year_batting_totals_df[\"Year\"], mlb_year_by_year_batting_totals_df[\"R/G\"])\n",
    "plt.title(\"Average Runs Scored Per Game, 1903-2022\")\n",
    "plt.xlabel(\"Year\")\n",
    "plt.ylabel(\"Runs Scored / Game\")\n",
    "plt.show()"
   ]
  },
  {
   "cell_type": "code",
   "execution_count": null,
   "metadata": {},
   "outputs": [],
   "source": [
    "plt.plot(mlb_year_by_year_batting_totals_df[\"Year\"],mlb_year_by_year_batting_totals_df[\"BA\"] )\n",
    "plt.title(\"MLB Batting Average, 1903-2022\")\n",
    "plt.xlabel(\"Year\")\n",
    "plt.ylabel(\"Batting Average\")\n",
    "plt.show()"
   ]
  },
  {
   "cell_type": "code",
   "execution_count": null,
   "metadata": {},
   "outputs": [],
   "source": [
    "strikeout_rate = ((mlb_year_by_year_batting_totals_df[\"SO\"] / mlb_year_by_year_batting_totals_df[\"PA\"])*100)\n",
    "strikeout_rate\n",
    "\n",
    "plt.plot(mlb_year_by_year_batting_totals_df[\"Year\"], strikeout_rate)\n",
    "plt.title(\"MLB Strikeout Rate, 1903-2022\")\n",
    "plt.xlabel(\"Year\")\n",
    "plt.ylabel(\"K%\")\n",
    "plt.show()"
   ]
  },
  {
   "cell_type": "code",
   "execution_count": null,
   "metadata": {},
   "outputs": [],
   "source": [
    "mlb_velocity = \"Resources/mlb_velocity.csv\""
   ]
  },
  {
   "cell_type": "code",
   "execution_count": null,
   "metadata": {},
   "outputs": [],
   "source": [
    "mlb_velocity_df = pd.read_csv(mlb_velocity)\n",
    "mlb_velocity_df"
   ]
  },
  {
   "cell_type": "code",
   "execution_count": null,
   "metadata": {},
   "outputs": [],
   "source": [
    "plt.plot(mlb_velocity_df[\"Season\"], mlb_velocity_df[\"vFA\"])\n",
    "plt.title(\"Average MLB Fastball Velocity (since 2007)\")\n",
    "plt.xlabel(\"Year\")\n",
    "plt.ylabel(\"Velocity (mph)\")\n",
    "plt.show()"
   ]
  },
  {
   "cell_type": "code",
   "execution_count": null,
   "metadata": {},
   "outputs": [],
   "source": [
    "# since_2007_df = mlb_year_by_year_batting_totals_df[mlb_year_by_year_batting_totals_df[\"Year\"]>= 2007]\n",
    "# since_2007_df"
   ]
  },
  {
   "cell_type": "code",
   "execution_count": null,
   "metadata": {},
   "outputs": [],
   "source": [
    "# strikeout_rate_since_2007 = ((since_2007_df[\"SO\"] / since_2007_df[\"PA\"])*100)\n",
    "# strikeout_rate_since_2007"
   ]
  },
  {
   "cell_type": "code",
   "execution_count": null,
   "metadata": {},
   "outputs": [],
   "source": [
    "# plt.plot(since_2007_df[\"Year\"], strikeout_rate_since_2007)\n",
    "# plt.title(\"MLB Strikeout Rate since 2007\")\n",
    "# plt.xlabel(\"Year\")\n",
    "# plt.ylabel(\"K%\")\n",
    "# plt.show()"
   ]
  },
  {
   "cell_type": "code",
   "execution_count": null,
   "metadata": {},
   "outputs": [],
   "source": [
    "# fig, ax=plt.subplots()\n",
    "# ax2=ax.twinx()\n",
    "# ax.plot(mlb_velocity_df[\"Season\"], mlb_velocity_df[\"vFA\"], label = \"Velocity\", color = \"orange\")\n",
    "# ax2.plot(since_2007_df[\"Year\"], strikeout_rate_since_2007, label = \"Strikeout Rate (%)\", color = \"red\")\n",
    "# ax.set_xlabel(\"Year\")\n",
    "# ax.set_ylabel(\"Velocity\")\n",
    "# ax2.set_ylabel(\"Strikeout Rate (%)\")\n",
    "# legend = (ax.legend(), ax2.legend())\n",
    "# plt.show()\n"
   ]
  },
  {
   "cell_type": "code",
   "execution_count": null,
   "metadata": {},
   "outputs": [],
   "source": [
    "# plt.plot(since_2007_df[\"Year\"],since_2007_df[\"BA\"])\n",
    "# plt.title(\"MLB Batting Average since 2007\")\n",
    "# plt.xlabel(\"Year\")\n",
    "# plt.ylabel(\"Batting Average\")\n",
    "# plt.show()"
   ]
  },
  {
   "cell_type": "code",
   "execution_count": null,
   "metadata": {},
   "outputs": [],
   "source": [
    "# fig, ax=plt.subplots()\n",
    "# ax2=ax.twinx()\n",
    "# ax.plot(since_2007_df[\"Year\"], strikeout_rate_since_2007)\n",
    "# ax2.plot(since_2007_df[\"Year\"],since_2007_df[\"BA\"])\n",
    "# plt.show()"
   ]
  },
  {
   "cell_type": "code",
   "execution_count": null,
   "metadata": {},
   "outputs": [],
   "source": [
    "# plt.plot(mlb_year_by_year_batting_totals_df[\"Year\"], mlb_year_by_year_batting_totals_df[\"R/G\"])\n",
    "# plt.title(\"Average Runs Scored Per Game, 1903-2022\")\n",
    "# plt.xlabel(\"Year\")\n",
    "# plt.ylabel(\"Runs Scored / Game\")\n",
    "# plt.show()"
   ]
  },
  {
   "cell_type": "code",
   "execution_count": null,
   "metadata": {},
   "outputs": [],
   "source": []
  }
 ],
 "metadata": {
  "kernelspec": {
   "display_name": "Python 3.9.12 ('base')",
   "language": "python",
   "name": "python3"
  },
  "language_info": {
   "codemirror_mode": {
    "name": "ipython",
    "version": 3
   },
   "file_extension": ".py",
   "mimetype": "text/x-python",
   "name": "python",
   "nbconvert_exporter": "python",
   "pygments_lexer": "ipython3",
   "version": "3.9.12"
  },
  "vscode": {
   "interpreter": {
    "hash": "805c0e85396415500a4af6d4192f3e63d8388b6177f359f7e3f1dafdb1b7b3b3"
   }
  }
 },
 "nbformat": 4,
 "nbformat_minor": 4
}
